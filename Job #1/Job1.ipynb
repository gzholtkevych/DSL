{
 "cells": [
  {
   "cell_type": "markdown",
   "source": [
    "initialize starter parameters"
   ],
   "metadata": {
    "collapsed": false,
    "pycharm": {
     "name": "#%% md\n"
    }
   }
  },
  {
   "cell_type": "code",
   "execution_count": 19,
   "outputs": [],
   "source": [
    "whitespaces = {\" \", \"\\n\", \"\\t\"}\n",
    "filename = \"test.txt\""
   ],
   "metadata": {
    "collapsed": false,
    "pycharm": {
     "name": "#%%\n"
    }
   }
  },
  {
   "cell_type": "markdown",
   "source": [
    "`is_whitespace` function is used to determine if a string is a whitespace.\n",
    "\n",
    "Note: Whitespace length is not fixed to 1"
   ],
   "metadata": {
    "collapsed": false,
    "pycharm": {
     "name": "#%% md\n"
    }
   }
  },
  {
   "cell_type": "code",
   "execution_count": 20,
   "outputs": [],
   "source": [
    "def is_whitespace(string: str) -> bool:\n",
    "    \"\"\"\n",
    "    :param string: any string that should be checked\n",
    "    :return: True if string is a whitespace else False\n",
    "    \"\"\"\n",
    "\n",
    "    return string in whitespaces"
   ],
   "metadata": {
    "collapsed": false,
    "pycharm": {
     "name": "#%%\n"
    }
   }
  },
  {
   "cell_type": "markdown",
   "source": [
    "`parse_string` function that parses string to get list of strings that is separate by any number of\n",
    "whitespaces in input text"
   ],
   "metadata": {
    "collapsed": false,
    "pycharm": {
     "name": "#%% md\n"
    }
   }
  },
  {
   "cell_type": "code",
   "execution_count": 21,
   "outputs": [],
   "source": [
    "def parse_string(text_to_parse: str) -> list:\n",
    "    \"\"\"\n",
    "    :param text_to_parse: text that will be split by whitespaces\n",
    "    :return: list of strings from text_to_parse split by whitespaces without empty strings\n",
    "    \"\"\"\n",
    "\n",
    "    result = []  # result list\n",
    "    current_word = []  # separate words split by whitespaces\n",
    "    # current_word is a list, not a string because string is immutable\n",
    "    # and will reallocate memory on each symbol appended\n",
    "\n",
    "    for char in text_to_parse:\n",
    "        if is_whitespace(char):\n",
    "            # if char is a whitespace there are 2 cases for previous symbol\n",
    "            # it was not a whitespace, then current_word is not empty and it needs to be saved and cleared\n",
    "            # it was a whitespace, then current_word is empty and char is skipped\n",
    "            if current_word:\n",
    "                # save current_word and clear it (join is used to correctly cast list to string)\n",
    "                result.append(\"\".join(current_word))\n",
    "                current_word.clear()\n",
    "        else:\n",
    "            # if char is not a whitespace store it in current_word\n",
    "            current_word.append(char)\n",
    "\n",
    "\t# if last symbol is not a whitespace then word is not empty and should be saved\n",
    "    if current_word:\n",
    "        result.append(\"\".join(current_word))\n",
    "\n",
    "    return result"
   ],
   "metadata": {
    "collapsed": false,
    "pycharm": {
     "name": "#%%\n"
    }
   }
  },
  {
   "cell_type": "markdown",
   "source": [
    "`main` that is used to test program.\n",
    "\n",
    "file content is read from file and passed to `parse_string` and then printed"
   ],
   "metadata": {
    "collapsed": false,
    "pycharm": {
     "name": "#%% md\n"
    }
   }
  },
  {
   "cell_type": "code",
   "execution_count": 22,
   "outputs": [],
   "source": [
    "def main():\n",
    "    with open(filename) as file:\n",
    "        result = parse_string(file.read())\n",
    "\n",
    "    print(result)"
   ],
   "metadata": {
    "collapsed": false,
    "pycharm": {
     "name": "#%%\n"
    }
   }
  },
  {
   "cell_type": "code",
   "execution_count": 23,
   "outputs": [
    {
     "name": "stdout",
     "output_type": "stream",
     "text": [
      "['#include', '<iostream>', 'int', 'main(int', 'argc,', 'char*', 'argv[])', '{', 'std::cout', '<<', 'argc;', 'if', '(argc', '==', '1)', 'std::cout', '<<', '\"Correct!\";', 'else', 'std::cout', '<<', '\"Incorrect!\"', '}']\n"
     ]
    }
   ],
   "source": [
    "if __name__ == '__main__':\n",
    "    main()"
   ],
   "metadata": {
    "collapsed": false,
    "pycharm": {
     "name": "#%%\n"
    }
   }
  }
 ],
 "metadata": {
  "kernelspec": {
   "display_name": "Python 3",
   "language": "python",
   "name": "python3"
  },
  "language_info": {
   "codemirror_mode": {
    "name": "ipython",
    "version": 2
   },
   "file_extension": ".py",
   "mimetype": "text/x-python",
   "name": "python",
   "nbconvert_exporter": "python",
   "pygments_lexer": "ipython2",
   "version": "2.7.6"
  }
 },
 "nbformat": 4,
 "nbformat_minor": 0
}