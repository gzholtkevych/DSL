{
 "cells": [
  {
   "cell_type": "code",
   "execution_count": 34,
   "outputs": [],
   "source": [
    "from copy import copy\n",
    "from Grammar import *"
   ],
   "metadata": {
    "collapsed": false,
    "pycharm": {
     "name": "#%%\n"
    }
   }
  },
  {
   "cell_type": "markdown",
   "source": [
    "Search for productive symbols.\n",
    "\n",
    "Let productive be the name of productive Vars.\n",
    "\n",
    "Start with all symbols for each there is a Rule, which is a list of **only** Tokens,\n",
    "and put such Vars to productive\n",
    "\n",
    "On each step check for each rule that if Definition is a list of Tokens or Vars from result and add them to productive\n",
    "until result is unchanged on a step"
   ],
   "metadata": {
    "collapsed": false
   }
  },
  {
   "cell_type": "code",
   "execution_count": 35,
   "outputs": [],
   "source": [
    "def remove_unproductive(grammar: Grammar) -> Grammar:\n",
    "\n",
    "    # check if rule contain only tokens or vars from given set\n",
    "    def contain_only_productive(rule: Rule, current_productive: set):\n",
    "        for value in rule:\n",
    "            if not (is_token(value) or value in current_productive):\n",
    "                return False\n",
    "        return True\n",
    "\n",
    "    # check if there is a rule from Definition that contain_only_productive symbols\n",
    "    def has_productive_rule(definition: Definition, current_productive: set) -> bool:\n",
    "        for rule in definition:\n",
    "            if contain_only_productive(rule, current_productive):\n",
    "                return True\n",
    "        return False\n",
    "\n",
    "    # start is a set of productive symbols where rule contain only tokens\n",
    "    productive = set(key for key, value in grammar.variables.items() if has_productive_rule(value, set()))\n",
    "    prev_result = None\n",
    "\n",
    "    while prev_result != productive:\n",
    "        prev_result = productive.copy()\n",
    "        productive = productive.union(\n",
    "            set(var for var, definition in grammar.variables.items() if has_productive_rule(definition, productive)))\n",
    "\n",
    "    result = copy(grammar)\n",
    "\n",
    "    result.variables = {\n",
    "        var: [rule for rule in definition\n",
    "              if contain_only_productive(rule, productive)]  # remove rules containing unproductive symbols\n",
    "        for var, definition in grammar.variables.items()\n",
    "        if var in productive  # remove all vars that are unproductive\n",
    "    }\n",
    "\n",
    "    # if all variable are unproductive => remove main_var\n",
    "    if not result.variables:\n",
    "        result.main_var = \"\"\n",
    "\n",
    "    return result"
   ],
   "metadata": {
    "collapsed": false,
    "pycharm": {
     "name": "#%%\n"
    }
   }
  },
  {
   "cell_type": "markdown",
   "source": [
    "Search for accessible symbols.\n",
    "\n",
    "Let accessible be the name of accessible Vars.\n",
    "\n",
    "Start with main_var\n",
    "\n",
    "On each step check for each rule for var from accessible and add all vars from these rules\n",
    "until result is unchanged on a step"
   ],
   "metadata": {
    "collapsed": false,
    "pycharm": {
     "name": "#%% md\n"
    }
   }
  },
  {
   "cell_type": "code",
   "execution_count": 36,
   "outputs": [],
   "source": [
    "def remove_inaccessible(grammar: Grammar) -> Grammar:\n",
    "    # check if rule contain specified var\n",
    "    def rule_contains_inaccessible(rule: Rule, accessible_vars: set):\n",
    "        for value in rule:\n",
    "            if not (is_token(value) or value in accessible_vars):\n",
    "                return False\n",
    "        return True\n",
    "\n",
    "    # get all accessible vars from definition\n",
    "    def get_accessible_from_definition(definition: Definition) -> set:\n",
    "        ret = set()\n",
    "        for rule in definition:\n",
    "            for value in rule:\n",
    "                if is_var(value):\n",
    "                    ret.add(value)\n",
    "        return ret\n",
    "\n",
    "    accessible = {grammar.main_var}\n",
    "    prev_result = None\n",
    "\n",
    "    while prev_result != accessible:\n",
    "        prev_result = accessible.copy()\n",
    "        for var, definition in grammar.variables.items():\n",
    "            if var in accessible:\n",
    "                accessible = accessible.union(get_accessible_from_definition(definition))\n",
    "\n",
    "    result = copy(grammar)\n",
    "\n",
    "    result.variables = {\n",
    "        var: [rule for rule in definition\n",
    "              if rule_contains_inaccessible(rule, accessible)]  # remove rules containing unproductive symbols\n",
    "        for var, definition in grammar.variables.items()\n",
    "        if var in accessible  # remove all vars that are unproductive\n",
    "    }\n",
    "\n",
    "    return result"
   ],
   "metadata": {
    "collapsed": false,
    "pycharm": {
     "name": "#%%\n"
    }
   }
  },
  {
   "cell_type": "code",
   "execution_count": 37,
   "outputs": [],
   "source": [
    "def remove_exterior(grammar: Grammar) -> Grammar:\n",
    "    return remove_inaccessible(remove_unproductive(grammar))"
   ],
   "metadata": {
    "collapsed": false,
    "pycharm": {
     "name": "#%%\n"
    }
   }
  },
  {
   "cell_type": "markdown",
   "source": [
    "Search for vanish symbols.\n",
    "\n",
    "Let vanish be the name of vanishing vars.\n",
    "\n",
    "Start with all symbols for each there is a Rule which is a list of **only** 1 empty token,\n",
    "and put such Vars to productive\n",
    "\n",
    "On each step check for var if there is a path from it to only vanishing vars"
   ],
   "metadata": {
    "collapsed": false,
    "pycharm": {
     "name": "#%% md\n"
    }
   }
  },
  {
   "cell_type": "code",
   "execution_count": 38,
   "outputs": [],
   "source": [
    "def get_vanish_symbols(grammar: Grammar) -> set:\n",
    "    # get all vanish symbols from definition\n",
    "    def definition_contains_empty_rule(definition: Definition, vanish_symbols: set) -> bool:\n",
    "        rule_empty = False\n",
    "        for rule in definition:\n",
    "            for value in rule:\n",
    "                if is_token(value):\n",
    "                    if not is_empty_token(value):\n",
    "                        rule_empty = False\n",
    "                        break\n",
    "                else:  # is_var(value)\n",
    "                    if value not in vanish_symbols:\n",
    "                        rule_empty = False\n",
    "                        break\n",
    "                rule_empty = True\n",
    "\n",
    "            if rule_empty:\n",
    "               return True\n",
    "        return False\n",
    "\n",
    "    vanish = set(key for key, value in grammar.variables.items() if definition_contains_empty_rule(value, set()))\n",
    "    prev_result = None\n",
    "\n",
    "    while prev_result != vanish:\n",
    "        prev_result = vanish.copy()\n",
    "        vanish = vanish.union(\n",
    "            key for key, value in grammar.variables.items() if definition_contains_empty_rule(value, vanish)\n",
    "        )\n",
    "\n",
    "    return vanish"
   ],
   "metadata": {
    "collapsed": false,
    "pycharm": {
     "name": "#%%\n"
    }
   }
  },
  {
   "cell_type": "code",
   "execution_count": 39,
   "outputs": [],
   "source": [
    "def main():\n",
    "\n",
    "    grammar = Grammar(\n",
    "        {(1, \"a\"), (1, \"b\"), (0, \"\")},\n",
    "        {\n",
    "            \"S\": [[\"S\", (0, \"\"), \"T\"], [\"T\"]],\n",
    "            \"T\": [[\"S\"], [(0, \"\")], [\"R\"]],\n",
    "            \"R\": [[\"R\"]],\n",
    "            \"F\": [[(1, \"a\")]]\n",
    "        },\n",
    "        \"S\"\n",
    "    )\n",
    "\n",
    "    print(get_vanish_symbols(grammar), end=\"\\n=======================\\n\")\n",
    "    print(grammar, end=\"\\n=======================\\n\")\n",
    "    print(remove_exterior(grammar))"
   ],
   "metadata": {
    "collapsed": false,
    "pycharm": {
     "name": "#%%\n"
    }
   }
  },
  {
   "cell_type": "code",
   "execution_count": 40,
   "outputs": [
    {
     "name": "stdout",
     "output_type": "stream",
     "text": [
      "{'S', 'T'}\n",
      "=======================\n",
      "{(1, 'a'), (1, 'b'), (0, '')}\n",
      "\n",
      "{'S': [['S', (0, ''), 'T'], ['T']], 'T': [['S'], [(0, '')], ['R']], 'R': [['R']], 'F': [[(1, 'a')]]}\n",
      "\n",
      "S\n",
      "=======================\n",
      "{(1, 'a'), (1, 'b'), (0, '')}\n",
      "\n",
      "{'S': [['S', (0, ''), 'T'], ['T']], 'T': [['S'], [(0, '')]]}\n",
      "\n",
      "S\n"
     ]
    }
   ],
   "source": [
    "if __name__ == '__main__':\n",
    "    main()\n"
   ],
   "metadata": {
    "collapsed": false,
    "pycharm": {
     "name": "#%%\n"
    }
   }
  }
 ],
 "metadata": {
  "kernelspec": {
   "display_name": "Python 3",
   "language": "python",
   "name": "python3"
  },
  "language_info": {
   "codemirror_mode": {
    "name": "ipython",
    "version": 2
   },
   "file_extension": ".py",
   "mimetype": "text/x-python",
   "name": "python",
   "nbconvert_exporter": "python",
   "pygments_lexer": "ipython2",
   "version": "2.7.6"
  }
 },
 "nbformat": 4,
 "nbformat_minor": 0
}