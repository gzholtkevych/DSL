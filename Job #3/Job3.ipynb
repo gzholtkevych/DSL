{
 "cells": [
  {
   "cell_type": "code",
   "execution_count": 17,
   "outputs": [],
   "source": [
    "from Grammar import *"
   ],
   "metadata": {
    "collapsed": false,
    "pycharm": {
     "name": "#%%\n"
    }
   }
  },
  {
   "cell_type": "markdown",
   "source": [
    "FIRST function returns set of terminals that can be deducted from non-terminal that we passed to it.\n",
    "\n",
    "First(A)\n",
    "for each rule from non-terminal A:\n",
    "if first symbol is terminal h => Add to set\n",
    "else it is a non-terminal B -> Add First(B)\n",
    "\n",
    "If it is non-terminal B - we get FIRST(B) and add to set, removing empty token"
   ],
   "metadata": {
    "collapsed": false
   }
  },
  {
   "cell_type": "code",
   "execution_count": null,
   "outputs": [],
   "source": [
    "def first_for_all(grammar: Grammar) -> dict:\n",
    "    result_dict = {}\n",
    "\n",
    "    def first(var: Var) -> set:\n",
    "        if var in result_dict.keys():\n",
    "            # first already calculated\n",
    "            return result_dict[var]\n",
    "        else:\n",
    "            # calculate first\n",
    "            result = set()\n",
    "            has_empty = False\n",
    "            for rule in grammar.variables[var]:\n",
    "                # index is used in case all rule is a vanishing non-terminals\n",
    "                for index, symbol in enumerate(rule):\n",
    "                    if is_empty_token(symbol):\n",
    "                        has_empty = True\n",
    "\n",
    "                    if is_token(symbol):\n",
    "                        result.add(symbol)\n",
    "                        break  # there is a terminal so not all symbols are vanishing non-terminals\n",
    "                    else:  # is_var(rule_first)\n",
    "                        if symbol not in result_dict.keys():\n",
    "                            result_dict[symbol] = first(symbol)\n",
    "\n",
    "                        # will not calculate second time because rule_first now in result_dict\n",
    "                        result = result.union(first(symbol))\n",
    "\n",
    "                        if get_empty_token() not in result_dict[symbol]:\n",
    "                            break\n",
    "                        elif index == len(rule) - 1:\n",
    "                            # each symbol is a vanish non-terminal => add empty\n",
    "                            result.add(get_empty_token())\n",
    "\n",
    "            if not has_empty and result:\n",
    "                result.discard(get_empty_token())\n",
    "\n",
    "            return result\n",
    "\n",
    "    for var in grammar.variables.keys():\n",
    "        # calculate only if it is not already calculated inside call of FIRST\n",
    "        if var not in result_dict:\n",
    "            result_dict[var] = first(var)\n",
    "\n",
    "    return result_dict\n"
   ],
   "metadata": {
    "collapsed": false,
    "pycharm": {
     "name": "#%%\n"
    }
   }
  },
  {
   "cell_type": "code",
   "execution_count": 19,
   "outputs": [],
   "source": [
    "def main():\n",
    "    grammar = Grammar(\n",
    "        {(0, ''), (1, '('), (1, ')'), (2, '+'), (2, '*'), (3, 'i')},\n",
    "        {\n",
    "            'E' : [['T', 'R']],\n",
    "            'R' : [[(2, '+'), 'T', 'R'],\n",
    "                   [(0, '')]],\n",
    "            'T' : [['F', 'Y']],\n",
    "            'Y' : [[(2, '*'), 'F', 'Y'],\n",
    "                   [(0, '')]],\n",
    "            'F' : [[(1, '('), 'E', (1, ')')],\n",
    "                   [(3, 'i')]]\n",
    "        },\n",
    "        'E'\n",
    "    )\n",
    "    print(first_for_all(grammar))"
   ],
   "metadata": {
    "collapsed": false,
    "pycharm": {
     "name": "#%%\n"
    }
   }
  },
  {
   "cell_type": "code",
   "execution_count": 20,
   "outputs": [
    {
     "name": "stdout",
     "output_type": "stream",
     "text": [
      "{'F': {(1, '('), (3, 'i')}, 'T': {(1, '('), (3, 'i')}, 'E': {(1, '('), (3, 'i')}, 'R': {(2, '+'), (0, '')}, 'Y': {(2, '*'), (0, '')}}\n"
     ]
    }
   ],
   "source": [
    "if __name__ == \"__main__\":\n",
    "    main()"
   ],
   "metadata": {
    "collapsed": false,
    "pycharm": {
     "name": "#%%\n"
    }
   }
  }
 ],
 "metadata": {
  "kernelspec": {
   "display_name": "Python 3",
   "language": "python",
   "name": "python3"
  },
  "language_info": {
   "codemirror_mode": {
    "name": "ipython",
    "version": 2
   },
   "file_extension": ".py",
   "mimetype": "text/x-python",
   "name": "python",
   "nbconvert_exporter": "python",
   "pygments_lexer": "ipython2",
   "version": "2.7.6"
  }
 },
 "nbformat": 4,
 "nbformat_minor": 0
}